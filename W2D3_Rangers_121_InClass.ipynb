{
 "cells": [
  {
   "cell_type": "markdown",
   "metadata": {},
   "source": [
    "# Dictionaries & Sets"
   ]
  },
  {
   "cell_type": "markdown",
   "metadata": {},
   "source": [
    "## Tasks Today:\n",
    "\n",
    "1) Dictionary <br>\n",
    " &nbsp;&nbsp;&nbsp;&nbsp; a) Declaring (key, value) <br>\n",
    " &nbsp;&nbsp;&nbsp;&nbsp; b) Accessing Values <br>\n",
    " &nbsp;&nbsp;&nbsp;&nbsp; ------ Exercise #1 - Print the eye color of each person in a double nested dict <br>\n",
    " &nbsp;&nbsp;&nbsp;&nbsp; c) Adding New Pairs <br>\n",
    " &nbsp;&nbsp;&nbsp;&nbsp; d) Modifying Values <br>\n",
    " &nbsp;&nbsp;&nbsp;&nbsp; e) Removing Key, Value Pairs <br>\n",
    " &nbsp;&nbsp;&nbsp;&nbsp; f) Looping a Dictionary <br>\n",
    " &nbsp;&nbsp;&nbsp;&nbsp; g) Looping Only Keys <br>\n",
    " &nbsp;&nbsp;&nbsp;&nbsp; h) Looping Only Values <br>\n",
    " &nbsp;&nbsp;&nbsp;&nbsp; ------ Exercise #2 - Create a Function that Prints All Key Value Pairs within a print .format()  <br>\n",
    " &nbsp;&nbsp;&nbsp;&nbsp; i) sorted() <br>\n",
    " &nbsp;&nbsp;&nbsp;&nbsp; j) Lists with Dictionaries <br>\n",
    " &nbsp;&nbsp;&nbsp;&nbsp; k) Dictionaries with Lists <br>\n",
    " &nbsp;&nbsp;&nbsp;&nbsp; l) Dictionaries with Dictionaries <br>\n",
    " &nbsp;&nbsp;&nbsp;&nbsp; ------ Exercise #3 - Write a Function that asks someone's name and address, and then stores that into a dictionary, which prints all names and addresses after they're done putting information in...  <br>\n",
    "2) Dictionaries vs. Lists (over time)<br>\n",
    "3) Set <br>\n",
    " &nbsp;&nbsp;&nbsp;&nbsp; a) Declaring <br>\n",
    " &nbsp;&nbsp;&nbsp;&nbsp; b) .add() <br>\n",
    " &nbsp;&nbsp;&nbsp;&nbsp; c) .remove() <br>\n",
    " &nbsp;&nbsp;&nbsp;&nbsp; d) .union() <br>\n",
    " &nbsp;&nbsp;&nbsp;&nbsp; e) .intersection() <br>\n",
    " &nbsp;&nbsp;&nbsp;&nbsp; f) .difference() <br>\n",
    " &nbsp;&nbsp;&nbsp;&nbsp; g) Frozen Set <br>\n",
    "4) Modules <br>\n",
    " &nbsp;&nbsp;&nbsp;&nbsp; a) Importing Entire Modules <br>\n",
    " &nbsp;&nbsp;&nbsp;&nbsp; b) Importing Methods Only <br>\n",
    " &nbsp;&nbsp;&nbsp;&nbsp; c) Using the 'as' Keyword <br>\n",
    " &nbsp;&nbsp;&nbsp;&nbsp; d) Creating a Module <br>\n",
    "5) Exercises <br>\n",
    " &nbsp;&nbsp;&nbsp;&nbsp; a) Build a Shopping Cart <br>\n",
    " &nbsp;&nbsp;&nbsp;&nbsp; b) Create Your Own Module <br>"
   ]
  },
  {
   "cell_type": "markdown",
   "metadata": {},
   "source": [
    "## Dictionary <br>\n",
    "<p>A collection of data with 'key:value' pairs. Dictionaries are ordered as of Python 3.6</p>"
   ]
  },
  {
   "cell_type": "markdown",
   "metadata": {},
   "source": [
    "##### Declaring (key, value)"
   ]
  },
  {
   "cell_type": "code",
   "execution_count": 2,
   "metadata": {},
   "outputs": [
    {
     "name": "stdout",
     "output_type": "stream",
     "text": [
      "{}\n",
      "{}\n",
      "{'Tom': '255 Main st', 'jerry': '257  Main st', 0: 'this is a 0'}\n"
     ]
    }
   ],
   "source": [
    "# keys should be unique\n",
    "# can use numbers or strings as keys\n",
    "d_1 = {}\n",
    "\n",
    "print(d_1)\n",
    "\n",
    "\n",
    "# or\n",
    "d_2 = dict()\n",
    "print(d_2)\n",
    "\n",
    "\n",
    "# d_2[\"some\"] = \"value\"\n",
    "\n",
    "# print(d_2)\n",
    "d_3 = {\n",
    "    \"Tom\": \"255 Main st\" ,\n",
    "    \"jerry\": \"257  Main st\" ,\n",
    "0: \"this is a 0\"\n",
    "}\n",
    "print(d_3)\n",
    "\n",
    "\n",
    "\n",
    "\n"
   ]
  },
  {
   "cell_type": "markdown",
   "metadata": {},
   "source": [
    "##### Accessing Values"
   ]
  },
  {
   "cell_type": "code",
   "execution_count": null,
   "metadata": {},
   "outputs": [],
   "source": [
    "# dict[key]\n",
    "names = [\"Juan\", \"Berik\", \"Connor\"]\n",
    "print(names[0])"
   ]
  },
  {
   "cell_type": "code",
   "execution_count": 8,
   "metadata": {},
   "outputs": [
    {
     "name": "stdout",
     "output_type": "stream",
     "text": [
      "When i am super tired i will get a 20 oz americano\n",
      "Hello\n",
      "That person's dog is really cuite\n",
      "12 oz\n",
      "16 oz\n",
      "20 oz\n"
     ]
    }
   ],
   "source": [
    "drink_sizes = {\n",
    "    \"tall\" : \"12 oz\",\n",
    "    \"grande\" : \"16 oz\",\n",
    "    \"venti\" : \"20 oz\"\\\n",
    "}\n",
    "print(f'When i am super tired i will get a {drink_sizes[\"venti\"]} americano')\n",
    "\n",
    "print(\"Hello\")\n",
    "print('That person\\'s dog is really cuite')\n",
    "\n",
    "print(drink_sizes[\"tall\"])\n",
    "print(drink_sizes[\"grande\"])\n",
    "print(drink_sizes[\"venti\"])\n"
   ]
  },
  {
   "cell_type": "code",
   "execution_count": 5,
   "metadata": {},
   "outputs": [
    {
     "name": "stdout",
     "output_type": "stream",
     "text": [
      "255 Main st\n",
      "this is a 0\n"
     ]
    }
   ],
   "source": [
    "#dict.get(key, value)\n",
    "d_3 = {\n",
    "    \"Tom\": \"255 Main st\" ,\n",
    "    \"jerry\": \"257  Main st\" ,\n",
    "0: \"this is a 0\"\n",
    "}\n",
    "print(d_3['Tom'])\n",
    "print(d_3[0])\n",
    "\n",
    "\n"
   ]
  },
  {
   "cell_type": "markdown",
   "metadata": {},
   "source": [
    "## In-Class Exercise #1 - Print a formatted statement from the dictionary below <br>\n",
    "<p>The output should be '2018 Chevrolet Silverado'</p>"
   ]
  },
  {
   "cell_type": "code",
   "execution_count": 10,
   "metadata": {},
   "outputs": [
    {
     "name": "stdout",
     "output_type": "stream",
     "text": [
      "Chevrolet Silverado 2018\n"
     ]
    }
   ],
   "source": [
    "# use the dict below\n",
    "truck = {\n",
    "    \"year\": 2018,\n",
    "    'make': 'Chevrolet',\n",
    "    'model': 'Silverado'\n",
    "}\n",
    "print(truck[\"make\"], truck[\"model\"], truck[\"year\"])\n",
    "\n",
    "\n",
    "\n"
   ]
  },
  {
   "cell_type": "markdown",
   "metadata": {},
   "source": [
    "##### Adding New Pairs"
   ]
  },
  {
   "cell_type": "code",
   "execution_count": 14,
   "metadata": {},
   "outputs": [
    {
     "name": "stdout",
     "output_type": "stream",
     "text": [
      "{'Tom': '255 Main st', 'jerry': '257  Main st', 0: 'this is a 0'}\n",
      "{'Tom': '255 Main st', 'jerry': '257  Main st', 0: 'this is a 0', 'Spike': '258 Main st'}\n",
      "{'Tom': '255 Main st', 'jerry': '257  Main st', 0: 'this is a 0', 'Spike': '258 Main st', 'Tike': '258 Main st'}\n",
      "{'Tom': '255 Main st', 'jerry': '257  Main st', 0: 'this is a 0', 'Spike': '258 Main st', 'Tike': '258 Main st', 1: 'This is a 1'}\n"
     ]
    }
   ],
   "source": [
    "# dict[key] = value\n",
    "d_3 = {\n",
    "    \"Tom\": \"255 Main st\" ,\n",
    "    \"jerry\": \"257  Main st\" ,\n",
    "0: \"this is a 0\"\n",
    "}\n",
    "print(d_3)\n",
    "d_3[\"Spike\"] = \"258 Main st\"\n",
    "print(d_3)\n",
    "d_3[\"Tike\"] = \"258 Main st\"\n",
    "print(d_3)\n",
    "d_3[1] = \"This is a 1\"\n",
    "print(d_3)"
   ]
  },
  {
   "cell_type": "markdown",
   "metadata": {},
   "source": [
    "##### Modifying Values"
   ]
  },
  {
   "cell_type": "code",
   "execution_count": null,
   "metadata": {},
   "outputs": [],
   "source": [
    "# dict[key] = value\n"
   ]
  },
  {
   "cell_type": "code",
   "execution_count": 23,
   "metadata": {},
   "outputs": [
    {
     "name": "stdout",
     "output_type": "stream",
     "text": [
      "258 Main st\n",
      "{'Tom': '254 Main st', 'jerry': '257  Main st', 0: 'this is a 0', 'Spike': '258 Main st', 'Tike': '258 Main st', 1: 'This is a 1', 'Jerry': '254 Main st', 'Rooster': '259 Main st'}\n",
      "{'Tom': '254 Main st', 'jerry': '257  Main st', 0: 'this is a 0', 'Spike': '258 Main st', 'Tike': '258 Main st', 1: 'This is a 1', 'Jerry': '254 Main st', 'Rooster': '259 Main st'}\n",
      "{'Tom': '254 Main st', 'jerry': '257  Main st', 0: 'this is a 0', 'Spike': '258 Main st', 'Tike': '258 Main st', 1: 'This is a 1', 'Jerry': '254 Main st', 'Rooster': '259 Main st'}\n",
      "This address already exists, please do not overwrite\n",
      "{'Tom': '254 Main st', 'jerry': '257  Main st', 0: 'this is a 0', 'Spike': '258 Main st', 'Tike': '258 Main st', 1: 'This is a 1', 'Jerry': '254 Main st', 'Rooster': '259 Main st'}\n",
      "True\n"
     ]
    }
   ],
   "source": [
    "# del dict[key]\n",
    "# del(my_list[0]) difference between list del and dict del is:\n",
    "# the list del(wraps the list in parentheses)\n",
    "\n",
    "dog_address = d_3[\"Spike\"]\n",
    "print(dog_address)\n",
    "\n",
    "d_3[\"Tike\"] = \"258 Main st\"\n",
    "print(d_3)\n",
    "d_3[\"Tom\"] = \"254 Main st\"\n",
    "d_3[\"Jerry\"] = \"254 Main st\"\n",
    "\n",
    "print(d_3)\n",
    "\n",
    "if \"259 Main st\" not in  d_3:\n",
    "    d_3[\"Rooster\"] = \"259 Main st\"\n",
    "\n",
    "else:\n",
    "    print(\"This already exists\")\n",
    "\n",
    "print(d_3)\n",
    "\n",
    "if \"Tom\" not in d_3:\n",
    "    d_3[\"Tom\"] = \"254 Main st\"\n",
    "    print(\"added info\")\n",
    "else:\n",
    "    print(\"This address already exists, please do not overwrite\")\n",
    "print(d_3)\n",
    "\n",
    "if d_3[\"Tom\"]:\n",
    "    print(True)\n",
    "\n",
    "\n"
   ]
  },
  {
   "cell_type": "markdown",
   "metadata": {},
   "source": [
    "##### Removing Key, Value Pairs"
   ]
  },
  {
   "cell_type": "code",
   "execution_count": null,
   "metadata": {},
   "outputs": [],
   "source": []
  },
  {
   "cell_type": "code",
   "execution_count": 24,
   "metadata": {},
   "outputs": [
    {
     "name": "stdout",
     "output_type": "stream",
     "text": [
      "{'Tom': '254 Main st', 'jerry': '257  Main st', 0: 'this is a 0', 'Spike': '258 Main st', 'Tike': '258 Main st', 1: 'This is a 1', 'Jerry': '254 Main st', 'Rooster': '259 Main st'}\n",
      "{'Tom': '254 Main st', 'jerry': '257  Main st', 'Spike': '258 Main st', 'Tike': '258 Main st', 1: 'This is a 1', 'Jerry': '254 Main st', 'Rooster': '259 Main st'}\n",
      "{'Tom': '254 Main st', 'jerry': '257  Main st', 'Spike': '258 Main st', 'Tike': '258 Main st', 'Jerry': '254 Main st', 'Rooster': '259 Main st'}\n"
     ]
    }
   ],
   "source": [
    "print(d_3)\n",
    "\n",
    "del d_3[0]\n",
    "print(d_3)\n",
    "\n",
    "del d_3[1]\n",
    "print(d_3)\n",
    "\n"
   ]
  },
  {
   "cell_type": "code",
   "execution_count": 25,
   "metadata": {},
   "outputs": [
    {
     "name": "stdout",
     "output_type": "stream",
     "text": [
      "That key does not exist. Please try again\n"
     ]
    }
   ],
   "source": [
    "if \"Bugs Bunny\" in d_3:\n",
    "    del d_3[\"Bugs Bunny\"]\n",
    "else:\n",
    "    print(\"That key does not exist. Please try again\")"
   ]
  },
  {
   "cell_type": "markdown",
   "metadata": {},
   "source": [
    "##### Looping a Dictionary"
   ]
  },
  {
   "cell_type": "code",
   "execution_count": 28,
   "metadata": {},
   "outputs": [
    {
     "name": "stdout",
     "output_type": "stream",
     "text": [
      "{'Tom': '254 Main st', 'jerry': '257  Main st', 'Spike': '258 Main st', 'Tike': '258 Main st', 'Jerry': '254 Main st', 'Rooster': '259 Main st'}\n",
      "dict_items([('Tom', '254 Main st'), ('jerry', '257  Main st'), ('Spike', '258 Main st'), ('Tike', '258 Main st'), ('Jerry', '254 Main st'), ('Rooster', '259 Main st')])\n",
      "\n",
      "\n",
      "Tom 254 Main st\n",
      "jerry 257  Main st\n",
      "Spike 258 Main st\n",
      "Tike 258 Main st\n",
      "Jerry 254 Main st\n",
      "Rooster 259 Main st\n",
      "Tom\n",
      "Jerry\n"
     ]
    }
   ],
   "source": [
    "# .items()\n",
    "# a, b, c = 1, 2, 3\n",
    "print(d_3)\n",
    "d_3_items = d_3.items()\n",
    "print(d_3_items)\n",
    "print(\"\\n\")\n",
    "for k, v in d_3.items():\n",
    "    print(k, v)\n",
    "\n",
    "for k, v in d_3.items():\n",
    "    if v == \"254 Main st\":\n",
    "        print(k)"
   ]
  },
  {
   "cell_type": "markdown",
   "metadata": {},
   "source": [
    "##### Looping Only Keys"
   ]
  },
  {
   "cell_type": "code",
   "execution_count": 31,
   "metadata": {},
   "outputs": [
    {
     "name": "stdout",
     "output_type": "stream",
     "text": [
      "dict_keys(['Tom', 'jerry', 'Spike', 'Tike', 'Jerry', 'Rooster'])\n",
      "Tom\n",
      "jerry\n",
      "Spike\n",
      "Tike\n",
      "Jerry\n",
      "Rooster\n"
     ]
    }
   ],
   "source": [
    "# .keys()\n",
    "d_3_keys = d_3.keys()\n",
    "print(d_3_keys)\n",
    "\n",
    "for k in d_3_keys:\n",
    "    print(k)"
   ]
  },
  {
   "cell_type": "markdown",
   "metadata": {},
   "source": [
    "##### Looping Only Values"
   ]
  },
  {
   "cell_type": "code",
   "execution_count": 33,
   "metadata": {
    "scrolled": true
   },
   "outputs": [
    {
     "name": "stdout",
     "output_type": "stream",
     "text": [
      "dict_values(['254 Main st', '257  Main st', '258 Main st', '258 Main st', '254 Main st', '259 Main st'])\n",
      "254 Main st\n",
      "257  Main st\n",
      "258 Main st\n",
      "258 Main st\n",
      "254 Main st\n",
      "259 Main st\n"
     ]
    }
   ],
   "source": [
    "# .values()\n",
    "d_3_values = d_3.values()\n",
    "print(d_3_values)\n",
    "\n",
    "for v in d_3.values():\n",
    "    print(v)\n",
    "\n"
   ]
  },
  {
   "cell_type": "markdown",
   "metadata": {},
   "source": [
    "## In-Class Exercise #2 - Create a Function that Prints All Key Value Pairs within a formatted string  <br>\n",
    "<p><b>Output should be:</b><br>\n",
    "Max has blue eyes<br>\n",
    "Lilly has brown eyes<br>\n",
    "Barney has blue eyes<br>\n",
    "etc.\n",
    "</p>"
   ]
  },
  {
   "cell_type": "code",
   "execution_count": 40,
   "metadata": {},
   "outputs": [
    {
     "name": "stdout",
     "output_type": "stream",
     "text": [
      "dict_items([('Max', 'blue'), ('Lilly', 'brown'), ('Barney', 'green'), ('Ted', 'purple'), ('Sasuke', 'sharingan')])\n",
      "Max blue\n",
      "Lilly brown\n",
      "Barney green\n",
      "Ted purple\n",
      "Sasuke sharingan\n"
     ]
    }
   ],
   "source": [
    "# use the dict below\n",
    "people = {\n",
    "    'Max' : 'blue',\n",
    "    'Lilly' : 'brown',\n",
    "    'Barney' : 'green',\n",
    "    'Ted' : 'purple',\n",
    "    'Sasuke' : 'sharingan'    \n",
    "} \n",
    "print(people.items())\n",
    "\n",
    "for k, v in people.items():\n",
    "    print(k,v)\n",
    "\n",
    "\n",
    "# for key, value in people.items():\n",
    "#       print(f\"{key} has {value} eyes\")\n",
    "\n",
    "\n",
    "\n",
    "\n"
   ]
  },
  {
   "cell_type": "markdown",
   "metadata": {},
   "source": [
    "##### sorted()"
   ]
  },
  {
   "cell_type": "code",
   "execution_count": 45,
   "metadata": {},
   "outputs": [
    {
     "name": "stdout",
     "output_type": "stream",
     "text": [
      "[('Barney', 'green'), ('Lilly', 'brown'), ('Max', 'blue'), ('Sasuke', 'sharingan'), ('Ted', 'purple')]\n",
      "('Barney', 'green')\n",
      "green\n"
     ]
    }
   ],
   "source": [
    "# sorts variables in order\n",
    "# sorted(dict.values()) or dict.keys() or dict.items()\n",
    "people = {    \n",
    "    'Max' : 'blue',\n",
    "    'Lilly' : 'brown',\n",
    "    'Barney' : 'green',\n",
    "    'Ted' : 'purple',\n",
    "    'Sasuke' : 'sharingan' \n",
    "}\n",
    "\n",
    "# print(\"Values\", sorted(people.value()))\n",
    "# print(\"keys\", sorted(people.keys()))\n",
    "# print(\"items\", sorted(people.itmes()))\n",
    "sorted_items = sorted(people.items())\n",
    "print(sorted_items)\n",
    "\n",
    "print(sorted_items[0])\n",
    "print(sorted_items[0][1])\n",
    "\n"
   ]
  },
  {
   "cell_type": "markdown",
   "metadata": {},
   "source": [
    "##### List with Dictionaries"
   ]
  },
  {
   "cell_type": "code",
   "execution_count": 47,
   "metadata": {},
   "outputs": [
    {
     "name": "stdout",
     "output_type": "stream",
     "text": [
      "\n",
      "\n",
      "{'leaf_village': 'Naruto', 'leaf_village2': 'Kakashi'}\n",
      "{'leaf_village': 'Naruto', 'leaf_village2': 'Kakashi'}\n",
      "Kakashi\n",
      "Kakashi\n",
      "Kakashi\n",
      "Naruto\n"
     ]
    }
   ],
   "source": [
    "shinobi = [\"Shikamaru\", \"Gaara\", \"OcotoPops\", {\"leaf_village\": \"Naruto\", \"leaf_village2\" : \"Kakashi\"}]\n",
    "\n",
    "print(\"\\n\")\n",
    "\n",
    "print(shinobi[3])\n",
    "\n",
    "print(shinobi[3])\n",
    "\n",
    "my_shinobi = shinobi[3]\n",
    "\n",
    "print(my_shinobi[\"leaf_village2\"])\n",
    "\n",
    "print(shinobi[3]['leaf_village2'])\n",
    "print(shinobi[-1]['leaf_village2'])\n",
    "\n",
    "shinobi_dict = {\"leaf_village\": \"Naruto\", \"leaf_village2\": \"Kakashi\"}\n",
    "\n",
    "print(shinobi_dict[\"leaf_village\"])\n",
    "\n"
   ]
  },
  {
   "cell_type": "markdown",
   "metadata": {},
   "source": [
    "##### Dictionaries with Lists"
   ]
  },
  {
   "cell_type": "code",
   "execution_count": 53,
   "metadata": {},
   "outputs": [
    {
     "name": "stdout",
     "output_type": "stream",
     "text": [
      "Bulbasaur\n",
      "65\n",
      "John\n",
      "Laura\n",
      "Bulbasaur\n"
     ]
    }
   ],
   "source": [
    "# be careful when using numbers as keys in dictionaries, don't confuse them with indexes\n",
    "some_data = {\n",
    "    \"list_1\" : [54, 65, 90],\n",
    "    \"names\" : [\"John\", \"Laura\", \"Bulbasaur\"]\n",
    "}\n",
    "\n",
    "print(some_data[\"names\"][-1])\n",
    "print(some_data[\"list_1\"][1])\n",
    "\n",
    "for name in some_data[\"names\"]:\n",
    "    print(name)"
   ]
  },
  {
   "cell_type": "markdown",
   "metadata": {},
   "source": [
    "##### Dictionaries with Dictionaries"
   ]
  },
  {
   "cell_type": "code",
   "execution_count": 79,
   "metadata": {
    "scrolled": true
   },
   "outputs": [
    {
     "name": "stdout",
     "output_type": "stream",
     "text": [
      "Here are all of our favorite foods!\n",
      "\n",
      "Ryan's favorites foods are: \n",
      "Tacos\n",
      "Tortas\n",
      "Conchas\n",
      "Cheesecake\n",
      "Pie\n",
      "Chocolate Chip Cookies\n",
      "Cupcakes\n",
      "\n",
      "Javier's favorites foods are: \n",
      "Mango\n",
      "PassionFruit\n",
      "Flan\n",
      "Chicken\n",
      "Gravy\n",
      "Mashed Potatos\n",
      "\n",
      "Miguel's favorites foods are: \n",
      "Beans\n",
      "Fruits\n",
      "Vegetables\n",
      "peanuts\n",
      "cookies\n",
      "popcorn\n",
      "soda\n",
      "\n",
      "Grace's favorites foods are: \n",
      "Palak Paneer\n",
      "Naan\n",
      "Chana Masala\n",
      "Lemon Bars\n",
      "Cheesecake\n",
      "Pies\n",
      "\n",
      "Anthony's favorites foods are: \n",
      "Tacos\n",
      "Mofongo\n",
      "Papusas\n",
      "Cheescake\n",
      "Flan\n",
      "Oreos\n",
      "M&Ms\n",
      "\n",
      "Bikram's favorites foods are: \n",
      "Pasta\n",
      "Fried Chicken\n",
      "Rice\n",
      "Chocolate Cake\n",
      "Ice CreamDunots\n",
      "\n",
      "Juan's favorites foods are: \n",
      "Langostinos\n",
      "Ceviche\n",
      "Chapuzon\n",
      "Cheesecake\n",
      "Flan\n",
      "Brownies\n",
      "\n",
      "Connor's favorites foods are: \n",
      "penne\n",
      "spagetti\n",
      "farfelle\n",
      "Chicago Style pizza\n",
      "Detroit Style Pizza (best pizza)\n",
      "New York Pizza\n",
      "Cheesecake (best)\n",
      "Carrot Cake\n",
      "Chocholate Pican Cake\n",
      "\n",
      "Justin's favorites foods are: \n",
      "Pho\n",
      "Banh Mi\n",
      "Bun Bo Hue\n",
      "Apple\n",
      "Pear\n",
      "Grapes\n",
      "Jackfruit\n",
      "\n",
      "Claudel's favorites foods are: \n",
      "kalalou\n",
      "tchaka\n",
      "bouton\n",
      "kremas\n",
      "bonbonsiwo\n",
      "dousmakos\n",
      "\n",
      "Andres's favorites foods are: \n",
      "Pasta\n",
      "Raviolis\n",
      "Pizza\n",
      "Ice cream\n",
      "Cookies\n",
      "Brownies\n",
      "Waffle\n",
      "\n",
      "Berik's favorites foods are: \n",
      "Beshbarmak\n",
      "Kuyrdak\n",
      "Kebab\n",
      "Kaymak\n",
      "Medovik\n",
      "Tort\n",
      "\n",
      "Wil's favorites foods are: \n",
      "tacos\n",
      "torta\n",
      "queso\n",
      "over_easy\n",
      "over_less_easy\n",
      "with_queso\n",
      "\n",
      "Dez's favorites foods are: \n",
      "Bibimbop\n",
      "Kimchi\n",
      "Samgyeopsa\n",
      "Tteokbokki\n",
      "Bulgogi\n",
      "\n",
      "Kym's favorites foods are: \n",
      "Ramen\n",
      "Sushi\n",
      "Fried Noodles\n",
      "Dark_chocalate\n",
      "Ice cream\n",
      "honeycake\n"
     ]
    }
   ],
   "source": [
    "# to get values, must traverse through keys\n",
    "\n",
    "\n",
    "\n",
    "\n",
    "\n",
    "\n",
    "\n",
    "food_dict = {\n",
    "    \"Ryan\": {\n",
    "    \"Mexican\": [\"Tacos\", \"Tortas\", \"Conchas\"],\n",
    "    \"Desserts\": [\"Cheesecake\", \"Pie\", \"Chocolate Chip Cookies\", \"Cupcakes\"]\n",
    "    },\n",
    "    \"Javier\": {\n",
    "    \"Dominican\": [\"Mango\", \"PassionFruit\", \"Flan\"],\n",
    "    \"American\": [\"Chicken\", \"Gravy\", \"Mashed Potatos\"]\n",
    "    },\n",
    "    \"Miguel\": {\n",
    "    \"Vegan\": [\"Beans\", \"Fruits\", \"Vegetables\"],\n",
    "    \"Desserts\": [\"peanuts\", \"cookies\", \"popcorn\", \"soda\"]\n",
    "    },\n",
    "    \"Grace\": {\n",
    "    \"Indian Food\" : [\"Palak Paneer\", \"Naan\", \"Chana Masala\"],\n",
    "    \"Desserts\" : [\"Lemon Bars\", \"Cheesecake\", \"Pies\"]\n",
    "    },\n",
    "    \"Anthony\":{\n",
    "    \"Spanish\":[\"Tacos\",\"Mofongo\", \"Papusas\"],\n",
    "    \"Desserts\":[\"Cheescake\", \"Flan\", \"Oreos\", \"M&Ms\"]\n",
    "    },\n",
    "    \"Bikram\" :  {\n",
    "    \"Food\":[\"Pasta\", \"Fried Chicken\" , \"Rice\"],\n",
    "        \"Desserts\":[\"Chocolate Cake\" ,\"Ice Cream\" \"Dunots\"]  \n",
    "},\n",
    "    \"Juan\": {\n",
    "    \"Mexican Seafood\": [\"Langostinos\", \"Ceviche\", \"Chapuzon\"],\n",
    "    \"Desserts\": [\"Cheesecake\", \"Flan\", \"Brownies\"]\n",
    "},\n",
    "    \"Connor\":{\n",
    "    \"Pasta\": [\"penne\", \"spagetti\",\"farfelle\"],\n",
    "    \"Pizza\" : [\"Chicago Style pizza\", \"Detroit Style Pizza (best pizza)\", \"New York Pizza\"],\n",
    "    \"Cake\": [\"Cheesecake (best)\", \"Carrot Cake\", \"Chocholate Pican Cake\"]\n",
    "},\n",
    "    \"Justin\": {\n",
    "    \"Vietnamese\" : [\"Pho\", \"Banh Mi\", \"Bun Bo Hue\"],\n",
    "    \"Fruits\" : [\"Apple\", \"Pear\", \"Grapes\", \"Jackfruit\"]\n",
    "},\n",
    "    \"Claudel\": {\"Haitian\": [\"kalalou\", \"tchaka\", \"bouton\"],\n",
    "                  \"desert\": [\"kremas\", \"bonbonsiwo\", \"dousmakos\"]\n",
    "               },\n",
    "    \"Andres\": {\n",
    "        \"Italian\": [\"Pasta\", \"Raviolis\", \"Pizza\"],\n",
    "        \"Desserts\": [\"Ice cream\", \"Cookies\", \"Brownies\", \"Waffle\"]\n",
    "},\n",
    "    \"Berik\": {\n",
    "    \"Kazakh\": [\"Beshbarmak\", \"Kuyrdak\", \"Kebab\"],\n",
    "    \"Deserts\" : [\"Kaymak\", \"Medovik\", \"Tort\"]},\n",
    "   \n",
    "    \"Wil\" : {\n",
    "    \"beef\": [\"tacos\",\"torta\",\"queso\"],\n",
    "    \"eggs\": [\"over_easy\",\"over_less_easy\",\"with_queso\"]},\n",
    "    \n",
    "    \"Dez\": {\n",
    "        \"Korean\" : ['Bibimbop', 'Kimchi', 'Samgyeopsa', 'Tteokbokki', 'Bulgogi']\n",
    "    },\n",
    "    \"Kym\": {\n",
    "    \"Asian\": [\"Ramen\", \"Sushi\", \"Fried Noodles\"],\n",
    "    \"Desserts\": [\"Dark_chocalate\", \"Ice cream\",\"honeycake\"]}, \n",
    "    \n",
    "    \n",
    "}\n",
    "\n",
    "    \n",
    "\n"
   ]
  },
  {
   "cell_type": "code",
   "execution_count": 64,
   "metadata": {},
   "outputs": [
    {
     "name": "stdout",
     "output_type": "stream",
     "text": [
      "Ryan\n",
      "Javier\n",
      "Miguel\n",
      "Grace\n",
      "Anthony\n",
      "Bikram\n",
      "Juan\n",
      "Connor\n",
      "Justin\n",
      "Claudel\n",
      "Andres\n",
      "Berik\n",
      "Wil\n",
      "Dez\n",
      "Kym\n"
     ]
    }
   ],
   "source": [
    "for person in food_dict:\n",
    "    print(person)"
   ]
  },
  {
   "cell_type": "code",
   "execution_count": 65,
   "metadata": {},
   "outputs": [
    {
     "name": "stdout",
     "output_type": "stream",
     "text": [
      "{'Mexican': ['Tacos', 'Tortas', 'Conchas'], 'Desserts': ['Cheesecake', 'Pie', 'Chocolate Chip Cookies', 'Cupcakes']}\n",
      "{'Dominican': ['Mango', 'PassionFruit', 'Flan'], 'American': ['Chicken', 'Gravy', 'Mashed Potatos']}\n",
      "{'Vegan': ['Beans', 'Fruits', 'Vegetables'], 'Desserts': ['peanuts', 'cookies', 'popcorn', 'soda']}\n",
      "{'Indian Food': ['Palak Paneer', 'Naan', 'Chana Masala'], 'Desserts': ['Lemon Bars', 'Cheesecake', 'Pies']}\n",
      "{'Spanish': ['Tacos', 'Mofongo', 'Papusas'], 'Desserts': ['Cheescake', 'Flan', 'Oreos', 'M&Ms']}\n",
      "{'Food': ['Pasta', 'Fried Chicken', 'Rice'], 'Desserts': ['Chocolate Cake', 'Ice CreamDunots']}\n",
      "{'Mexican Seafood': ['Langostinos', 'Ceviche', 'Chapuzon'], 'Desserts': ['Cheesecake', 'Flan', 'Brownies']}\n",
      "{'Pasta': ['penne', 'spagetti', 'farfelle'], 'Pizza': ['Chicago Style pizza', 'Detroit Style Pizza (best pizza)', 'New York Pizza'], 'Cake': ['Cheesecake (best)', 'Carrot Cake', 'Chocholate Pican Cake']}\n",
      "{'Vietnamese': ['Pho', 'Banh Mi', 'Bun Bo Hue'], 'Fruits': ['Apple', 'Pear', 'Grapes', 'Jackfruit']}\n",
      "{'Haitian': ['kalalou', 'tchaka', 'bouton'], 'desert': ['kremas', 'bonbonsiwo', 'dousmakos']}\n",
      "{'Italian': ['Pasta', 'Raviolis', 'Pizza'], 'Desserts': ['Ice cream', 'Cookies', 'Brownies', 'Waffle']}\n",
      "{'Kazakh': ['Beshbarmak', 'Kuyrdak', 'Kebab'], 'Deserts': ['Kaymak', 'Medovik', 'Tort']}\n",
      "{'beef': ['tacos', 'torta', 'queso'], 'eggs': ['over_easy', 'over_less_easy', 'with_queso']}\n",
      "{'Korean': ['Bibimbop', 'Kimchi', 'Samgyeopsa', 'Tteokbokki', 'Bulgogi']}\n",
      "{'Asian': ['Ramen', 'Sushi', 'Fried Noodles'], 'Desserts': ['Dark_chocalate', 'Ice cream', 'honeycake']}\n"
     ]
    }
   ],
   "source": [
    "for foods in food_dict.values():\n",
    "    print(foods)"
   ]
  },
  {
   "cell_type": "code",
   "execution_count": 78,
   "metadata": {},
   "outputs": [
    {
     "name": "stdout",
     "output_type": "stream",
     "text": [
      "{'Kazakh': ['Beshbarmak', 'Kuyrdak', 'Kebab'], 'Deserts': ['Kaymak', 'Medovik', 'Tort']}\n",
      "Beshbarmak\n",
      "Kuyrdak\n",
      "Kebab\n"
     ]
    }
   ],
   "source": [
    "print(food_dict[\"Berik\"])\n",
    "for food in food_dict[\"Berik\"][\"Kazakh\"]:\n",
    "    print(food)\n",
    "\n"
   ]
  },
  {
   "cell_type": "code",
   "execution_count": 80,
   "metadata": {},
   "outputs": [
    {
     "name": "stdout",
     "output_type": "stream",
     "text": [
      "Here are all of our favorite foods!\n",
      "\n",
      "Ryan's favorites foods are: \n",
      "Tacos\n",
      "Tortas\n",
      "Conchas\n",
      "Cheesecake\n",
      "Pie\n",
      "Chocolate Chip Cookies\n",
      "Cupcakes\n",
      "\n",
      "Javier's favorites foods are: \n",
      "Mango\n",
      "PassionFruit\n",
      "Flan\n",
      "Chicken\n",
      "Gravy\n",
      "Mashed Potatos\n",
      "\n",
      "Miguel's favorites foods are: \n",
      "Beans\n",
      "Fruits\n",
      "Vegetables\n",
      "peanuts\n",
      "cookies\n",
      "popcorn\n",
      "soda\n",
      "\n",
      "Grace's favorites foods are: \n",
      "Palak Paneer\n",
      "Naan\n",
      "Chana Masala\n",
      "Lemon Bars\n",
      "Cheesecake\n",
      "Pies\n",
      "\n",
      "Anthony's favorites foods are: \n",
      "Tacos\n",
      "Mofongo\n",
      "Papusas\n",
      "Cheescake\n",
      "Flan\n",
      "Oreos\n",
      "M&Ms\n",
      "\n",
      "Bikram's favorites foods are: \n",
      "Pasta\n",
      "Fried Chicken\n",
      "Rice\n",
      "Chocolate Cake\n",
      "Ice CreamDunots\n",
      "\n",
      "Juan's favorites foods are: \n",
      "Langostinos\n",
      "Ceviche\n",
      "Chapuzon\n",
      "Cheesecake\n",
      "Flan\n",
      "Brownies\n",
      "\n",
      "Connor's favorites foods are: \n",
      "penne\n",
      "spagetti\n",
      "farfelle\n",
      "Chicago Style pizza\n",
      "Detroit Style Pizza (best pizza)\n",
      "New York Pizza\n",
      "Cheesecake (best)\n",
      "Carrot Cake\n",
      "Chocholate Pican Cake\n",
      "\n",
      "Justin's favorites foods are: \n",
      "Pho\n",
      "Banh Mi\n",
      "Bun Bo Hue\n",
      "Apple\n",
      "Pear\n",
      "Grapes\n",
      "Jackfruit\n",
      "\n",
      "Claudel's favorites foods are: \n",
      "kalalou\n",
      "tchaka\n",
      "bouton\n",
      "kremas\n",
      "bonbonsiwo\n",
      "dousmakos\n",
      "\n",
      "Andres's favorites foods are: \n",
      "Pasta\n",
      "Raviolis\n",
      "Pizza\n",
      "Ice cream\n",
      "Cookies\n",
      "Brownies\n",
      "Waffle\n",
      "\n",
      "Berik's favorites foods are: \n",
      "Beshbarmak\n",
      "Kuyrdak\n",
      "Kebab\n",
      "Kaymak\n",
      "Medovik\n",
      "Tort\n",
      "\n",
      "Wil's favorites foods are: \n",
      "tacos\n",
      "torta\n",
      "queso\n",
      "over_easy\n",
      "over_less_easy\n",
      "with_queso\n",
      "\n",
      "Dez's favorites foods are: \n",
      "Bibimbop\n",
      "Kimchi\n",
      "Samgyeopsa\n",
      "Tteokbokki\n",
      "Bulgogi\n",
      "\n",
      "Kym's favorites foods are: \n",
      "Ramen\n",
      "Sushi\n",
      "Fried Noodles\n",
      "Dark_chocalate\n",
      "Ice cream\n",
      "honeycake\n"
     ]
    }
   ],
   "source": [
    "print(\"Here are all of our favorite foods!\")\n",
    "for name in food_dict.keys():\n",
    "    print(f\"\\n{name}'s favorites foods are: \")\n",
    "    for food_type in food_dict[name].keys():\n",
    "        for food in food_dict[name][food_type]:\n",
    "            print(food)"
   ]
  },
  {
   "cell_type": "code",
   "execution_count": null,
   "metadata": {},
   "outputs": [],
   "source": []
  },
  {
   "cell_type": "markdown",
   "metadata": {},
   "source": [
    "## Dictionaries vs. Lists (over time) Example of RUNTIME\n",
    "### When inputting values in a Dictionary vs List"
   ]
  },
  {
   "cell_type": "code",
   "execution_count": null,
   "metadata": {},
   "outputs": [],
   "source": [
    "import time\n",
    "\n",
    "#generate dictionary\n",
    "\n",
    "    \n",
    "\n",
    "    \n",
    "\n"
   ]
  },
  {
   "cell_type": "code",
   "execution_count": null,
   "metadata": {},
   "outputs": [],
   "source": [
    "#track the time for the dictionary\n",
    "\n",
    "\n",
    "\n",
    "        "
   ]
  },
  {
   "cell_type": "markdown",
   "metadata": {},
   "source": [
    "## Exercise #3 - Write a Function that asks someone's name and address, and then stores that into a dictionary, and continues to do so until they choose to 'quit'. Once they quit, the program should print all names and addresses. <br>\n",
    "<p>\n",
    "<b>Proper steps:</b><br>\n",
    "step 1: write a function that takes in information and stores it in a dictionary<br>\n",
    "step 2: define an empty dictionary to work with<br>\n",
    "step 3: create our loop, which asks the user for information until they quit<br>\n",
    "step 4: ask for the information, and store it into variables<br>\n",
    "step 5: check if the user types quit<br>\n",
    "step 5a: print out all information<br>\n",
    "step 5b: break out of the loop<br>\n",
    "step 6: if they didn't quit, add the information to the dictionary<br>\n",
    "step 7: invoke the function by calling it\n",
    "</p>"
   ]
  },
  {
   "cell_type": "code",
   "execution_count": 81,
   "metadata": {},
   "outputs": [
    {
     "name": "stdin",
     "output_type": "stream",
     "text": [
      "Enter a name or say 'quit' to quit:  Berik\n",
      "Enter an address or say 'quit' to quit.  400 e oak\n",
      "Enter a name or say 'quit' to quit:  Tom\n",
      "Enter an address or say 'quit' to quit.  405 n oak\n",
      "Enter a name or say 'quit' to quit:  Jerry\n",
      "Enter an address or say 'quit' to quit.  410 w oak\n",
      "Enter a name or say 'quit' to quit:  Sam\n",
      "Enter an address or say 'quit' to quit.  415 s oak\n",
      "Enter a name or say 'quit' to quit:  quit\n"
     ]
    },
    {
     "name": "stdout",
     "output_type": "stream",
     "text": [
      "The address for Berik is 400 e oak\n",
      "The address for Tom is 405 n oak\n",
      "The address for Jerry is 410 w oak\n",
      "The address for Sam is 415 s oak\n"
     ]
    }
   ],
   "source": [
    "from IPython.display import clear_output\n",
    "#step 1 work on functions tomorrow\n",
    "\n",
    "#step 2\n",
    "d = {}\n",
    "\n",
    "#step 3 while True will run until we hit a break condition\n",
    "while True:\n",
    "    #step 4\n",
    "    name = input(\"Enter a name or say 'quit' to quit: \")\n",
    "    if name.strip().lower() != 'quit':\n",
    "        address = input(\"Enter an address or say 'quit' to quit. \")\n",
    "        \n",
    "    #step 5\n",
    "    if name.lower() == \"quit\" or address.lower() == \"quit\":\n",
    "        #step 5a\n",
    "        for name, address in d.items():\n",
    "            print(f\"The address for {name} is {address}\")\n",
    "        break\n",
    "        \n",
    "    d[name] = address #step 6\n",
    "\n",
    "            \n",
    "        \n",
    "        "
   ]
  },
  {
   "cell_type": "markdown",
   "metadata": {},
   "source": [
    "## Set <br>\n",
    "<p>A Set is an unordered collection data type that is iterable (loop), mutable, and has no duplicate elements.<br>Major advantage is that it is highly optimized in checking if something is in the set, as opposed to checking if something is in a list.</p>"
   ]
  },
  {
   "cell_type": "markdown",
   "metadata": {},
   "source": [
    "##### Declaring"
   ]
  },
  {
   "cell_type": "code",
   "execution_count": 84,
   "metadata": {},
   "outputs": [
    {
     "name": "stdout",
     "output_type": "stream",
     "text": [
      "{8, 1, 4}\n",
      "{1, 4, 5, 6, 7, 8, 9}\n"
     ]
    }
   ],
   "source": [
    "# set() or {}\n",
    "# no order {3, 2, 1} outputs as {1, 2, 3}\n",
    "nums = {4, 1, 8, 4}\n",
    "\n",
    "print(nums)\n",
    "\n",
    "my_list = [1,1,1,1,1,4,5,6,6,6,6,6,6,6,7,7,8,9,9,9,9,9,9]\n",
    "\n",
    "remove_dups = set(my_list)\n",
    "my_list = list(remove_dups)\n",
    "print(my_set)\n"
   ]
  },
  {
   "cell_type": "code",
   "execution_count": 85,
   "metadata": {
    "scrolled": true
   },
   "outputs": [
    {
     "name": "stdout",
     "output_type": "stream",
     "text": [
      "{'Hello', 1, 2, 3, 'goobbye'}\n"
     ]
    }
   ],
   "source": [
    "#remove all duplicates from the list\n",
    "string_set = {\"Hello\", \"goobbye\", \"Hello\", 1, 1, 1, 2, 2, 3,}\n",
    "print(string_set)"
   ]
  },
  {
   "cell_type": "markdown",
   "metadata": {},
   "source": [
    "##### .add()"
   ]
  },
  {
   "cell_type": "code",
   "execution_count": 87,
   "metadata": {},
   "outputs": [
    {
     "name": "stdout",
     "output_type": "stream",
     "text": [
      "{1, 2, 3, 4}\n",
      "{1, 2, 3, 4, 8}\n",
      "{1, 2, 3, 4, 8, 'hello'}\n",
      "{1, 2, 3, 4, 8}\n"
     ]
    }
   ],
   "source": [
    "# set.add()\n",
    "my_set = {1, 2, 3, 4}\n",
    "print(my_set)\n",
    "my_set.add(8)\n",
    "print(my_set)\n",
    "my_set.add(4)\n",
    "my_set.add(\"hello\")\n",
    "print(my_set)\n",
    "my_set.remove(\"hello\")\n",
    "print(my_set)\n",
    "\n"
   ]
  },
  {
   "cell_type": "code",
   "execution_count": null,
   "metadata": {},
   "outputs": [],
   "source": []
  },
  {
   "cell_type": "code",
   "execution_count": 89,
   "metadata": {},
   "outputs": [
    {
     "name": "stdout",
     "output_type": "stream",
     "text": [
      "{1, 2, 3, 4, 5, 6, 7, 8}\n",
      "{1, 2, 3, 4, 5, 6, 7, 8}\n"
     ]
    }
   ],
   "source": [
    "# removes by value\n",
    "# set.remove()\n",
    "\n"
   ]
  },
  {
   "cell_type": "markdown",
   "metadata": {},
   "source": [
    "##### .union() "
   ]
  },
  {
   "cell_type": "code",
   "execution_count": 90,
   "metadata": {},
   "outputs": [
    {
     "name": "stdout",
     "output_type": "stream",
     "text": [
      "{1, 2, 3, 4, 5, 6, 7, 8}\n",
      "{1, 2, 3, 4, 5, 6, 7, 8}\n"
     ]
    }
   ],
   "source": [
    "# Returns a union of two sets, can also use '|' or set.union(set)\n",
    "# joins all numbers, gets rid of duplicates\n",
    "\n",
    "s1 = {1,2,3,4}\n",
    "s2 = {5,6,7,8}\n",
    "\n",
    "s3 = s1.union(s2)\n",
    "\n",
    "print(s3)\n",
    "\n",
    "s4 = s1 | s2\n",
    "print(s4)\n"
   ]
  },
  {
   "cell_type": "markdown",
   "metadata": {},
   "source": [
    "##### .intersection()"
   ]
  },
  {
   "cell_type": "code",
   "execution_count": 93,
   "metadata": {},
   "outputs": [
    {
     "name": "stdout",
     "output_type": "stream",
     "text": [
      "{2, 3, 4, 5}\n",
      "{2, 3, 4}\n"
     ]
    }
   ],
   "source": [
    "# Returns an intersection of two sets, can also use '&'\n",
    "# only takes similar elements from both sets\n",
    "s1 = {1,2,3,4,4}\n",
    "s2 = {3,4,5,5,2}\n",
    "s3 = s1.intersection(s2)\n",
    "print(s2)\n",
    "\n",
    "s4 = s1 & s2\n",
    "\n",
    "print(s4)\n",
    "\n",
    "\n"
   ]
  },
  {
   "cell_type": "markdown",
   "metadata": {},
   "source": [
    "##### .difference()"
   ]
  },
  {
   "cell_type": "code",
   "execution_count": 94,
   "metadata": {},
   "outputs": [
    {
     "name": "stdout",
     "output_type": "stream",
     "text": [
      "{2, 3, 4, 5}\n"
     ]
    }
   ],
   "source": [
    "# Returns a set containing all the elements of invoking set that are not in the second set, can also use '-'\n",
    "# only takes values from the first set that are not in the second set\n",
    "# order matt\n",
    "\n",
    "s1 = {1,2,3,4,}\n",
    "s2 = {3,4,5,5,2}\n",
    "s3 = s1.difference(s2)\n",
    "print(s2)\n",
    "\n"
   ]
  },
  {
   "cell_type": "markdown",
   "metadata": {},
   "source": [
    "##### .clear()"
   ]
  },
  {
   "cell_type": "code",
   "execution_count": null,
   "metadata": {},
   "outputs": [],
   "source": [
    "# Empties the whole set\n",
    "# set.cear()\n",
    "\n",
    "\n",
    "\n",
    "\n"
   ]
  },
  {
   "cell_type": "markdown",
   "metadata": {},
   "source": [
    "##### Frozenset <br>\n",
    "<p>Frozen sets are immutable objects that only support methods and operators that produce a result without affecting the frozen set or sets to which they are applied.</p><br><b>Unique & Immutable</b>"
   ]
  },
  {
   "cell_type": "code",
   "execution_count": 95,
   "metadata": {},
   "outputs": [
    {
     "name": "stdout",
     "output_type": "stream",
     "text": [
      "{1, 2, 3, 4, 'Hello, my horse is cool'}\n",
      "frozenset({1, 2, 3, 4, 'Hello, my horse is cool'})\n"
     ]
    }
   ],
   "source": [
    "# frozenset([])\n",
    "my_set = {1, 2, 3, 4, \"Hello, my horse is cool\"}\n",
    "print(my_set)\n",
    "\n",
    "frozen_set = frozenset(my_set)\n",
    "print(frozen_set)\n",
    "\n",
    "\n"
   ]
  },
  {
   "cell_type": "markdown",
   "metadata": {},
   "source": [
    "# Exercises"
   ]
  },
  {
   "cell_type": "markdown",
   "metadata": {},
   "source": [
    "### 1) Build a Shopping Cart <br>\n",
    "<p><b>You can use either lists or dictionaries. The program should have the following capabilities:</b><br><br>\n",
    "1) Takes in input <br>\n",
    "2) Stores user input into a dictionary or list <br>\n",
    "3) The User can add or delete items <br>\n",
    "4) The User can see current shopping list <br>\n",
    "5) The program Loops until user 'quits' <br>\n",
    "6) Upon quiting the program, print out all items in the user's list <br>\n",
    "</p>"
   ]
  },
  {
   "cell_type": "code",
   "execution_count": null,
   "metadata": {},
   "outputs": [
    {
     "name": "stdout",
     "output_type": "stream",
     "text": [
      "\n",
      "Menu:\n",
      "1. Add item to cart\n",
      "2. Remove item from cart\n",
      "3. Show current cart\n",
      "4. Quit\n"
     ]
    }
   ],
   "source": [
    "from IPython.display import clear_output\n",
    "\n",
    "# Ask the user four bits of input: Do you want to : Show/Add/Delete or Quit?\n",
    "\n",
    "def display_cart(cart):\n",
    "    print(\"\\nCurrent Shopping List:\")\n",
    "    for item, quantity in cart.items():\n",
    "        print(f\"{item}: {quantity}\")\n",
    "\n",
    "def add_item(cart):\n",
    "    item = input(\"Enter the item you want to add: \")\n",
    "    quantity = int(input(f\"Enter the quantity of {item}: \"))\n",
    "    cart[item] = cart.get(item, 0) + quantity\n",
    "    print(f\"{quantity} {item}(s) added to the cart.\")\n",
    "\n",
    "def remove_item(cart):\n",
    "    item = input(\"Enter the item you want to remove: \")\n",
    "    if item in cart:\n",
    "        del cart[item]\n",
    "        print(f\"{item} removed from the cart.\")\n",
    "    else:\n",
    "        print(f\"{item} is not in the cart.\")\n",
    "\n",
    "def main():\n",
    "    cart = {}\n",
    "    \n",
    "    while True:\n",
    "        print(\"\\nMenu:\")\n",
    "        print(\"1. Add item to cart\")\n",
    "        print(\"2. Remove item from cart\")\n",
    "        print(\"3. Show current cart\")\n",
    "        print(\"4. Quit\")\n",
    "        \n",
    "        choice = input(\"Enter your choice (1/2/3/4): \")\n",
    "        \n",
    "        if choice == '1':\n",
    "            add_item(cart)\n",
    "        elif choice == '2':\n",
    "            remove_item(cart)\n",
    "        elif choice == '3':\n",
    "            show_cart(cart)\n",
    "        elif choice == '4':\n",
    "            break\n",
    "        else:\n",
    "            print(\"Invalid choice. Please try again.\")\n",
    "\n",
    "    print(\"\\nFinal Shopping List:\")\n",
    "    display_cart(cart)\n",
    "\n",
    "if __name__ == \"__main__\":\n",
    "    main()\n"
   ]
  },
  {
   "cell_type": "markdown",
   "metadata": {},
   "source": [
    "2) Set Practice"
   ]
  },
  {
   "cell_type": "markdown",
   "metadata": {},
   "source": [
    "Remove all duplicates from the following list"
   ]
  },
  {
   "cell_type": "code",
   "execution_count": 1,
   "metadata": {},
   "outputs": [
    {
     "name": "stdout",
     "output_type": "stream",
     "text": [
      "[1, 2, 3, 4, 5, 6, 11, 12, 14, 16]\n"
     ]
    }
   ],
   "source": [
    "nums_list = [1, 1, 1, 2, 2, 3, 5, 6, 4, 12, 11, 12, 12, 14, 16, 16, 16, 1, 1, 1, 2, 2]\n",
    "\n",
    "unique_nums = list(set(nums_list))\n",
    "\n",
    "print(unique_nums)"
   ]
  },
  {
   "cell_type": "markdown",
   "metadata": {},
   "source": [
    "Out put the intersection of the following the following sets."
   ]
  },
  {
   "cell_type": "code",
   "execution_count": 2,
   "metadata": {},
   "outputs": [
    {
     "name": "stdout",
     "output_type": "stream",
     "text": [
      "{35, 26, 27, 63}\n"
     ]
    }
   ],
   "source": [
    "set1 = {20, 24, 26, 27}\n",
    "set2 = {26, 35, 63, 27}\n",
    "intersection_set = set.intersection(set2)\n",
    "print(intersection_set)\n"
   ]
  },
  {
   "cell_type": "markdown",
   "metadata": {},
   "source": [
    "<p><b>Output the difference between the following sets</b></p>"
   ]
  },
  {
   "cell_type": "code",
   "execution_count": 3,
   "metadata": {},
   "outputs": [
    {
     "name": "stdout",
     "output_type": "stream",
     "text": [
      "{200, 65, 54, 103}\n"
     ]
    }
   ],
   "source": [
    "set3 = {100, 65, 89, 200}\n",
    "set4 = {65, 103, 54, 200}\n",
    "difference_set = set.difference(set4)\n",
    "print(difference_set)"
   ]
  },
  {
   "cell_type": "code",
   "execution_count": null,
   "metadata": {},
   "outputs": [],
   "source": []
  }
 ],
 "metadata": {
  "kernelspec": {
   "display_name": "Python 3 (ipykernel)",
   "language": "python",
   "name": "python3"
  },
  "language_info": {
   "codemirror_mode": {
    "name": "ipython",
    "version": 3
   },
   "file_extension": ".py",
   "mimetype": "text/x-python",
   "name": "python",
   "nbconvert_exporter": "python",
   "pygments_lexer": "ipython3",
   "version": "3.12.0"
  }
 },
 "nbformat": 4,
 "nbformat_minor": 4
}
